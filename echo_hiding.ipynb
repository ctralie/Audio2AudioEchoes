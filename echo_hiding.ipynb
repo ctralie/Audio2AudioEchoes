{
 "cells": [
  {
   "cell_type": "code",
   "execution_count": 1,
   "metadata": {},
   "outputs": [],
   "source": [
    "import sys\n",
    "import os\n",
    "sys.path.insert(0, '/opt/research/EchoHiding/')\n",
    "from echohiding import echo_hide, extract_echo_bits, get_mp3_encoded\n",
    "import pathlib\n",
    "import librosa\n",
    "import numpy\n",
    "from util_functions import *"
   ]
  },
  {
   "cell_type": "code",
   "execution_count": 2,
   "metadata": {},
   "outputs": [],
   "source": [
    "L = 2048\n",
    "avgs = []\n",
    "\n",
    "directory = '/opt/research/fma_medium/'"
   ]
  },
  {
   "cell_type": "code",
   "execution_count": 5,
   "metadata": {},
   "outputs": [
    {
     "name": "stdout",
     "output_type": "stream",
     "text": [
      "1.0\n"
     ]
    }
   ],
   "source": [
    "# Insert all 0's into the audio clips\n",
    "\n",
    "y, sr = librosa.load(\"/opt/research/fma_medium/000/000002.mp3\")\n",
    "\n",
    "bitrate = 64\n",
    "b_est_mp3 = extract_echo_bits(get_mp3_encoded(y, sr, bitrate), L)\n",
    "\n",
    "zeros = numpy.ones(len(b_est_mp3))\n",
    "z = echo_hide(y, L, zeros, alpha=0.2)\n",
    "\n",
    "b_est_mp3 = extract_echo_bits(get_mp3_encoded(z, sr, bitrate), L)\n",
    "print(numpy.mean(b_est_mp3))"
   ]
  },
  {
   "cell_type": "code",
   "execution_count": null,
   "metadata": {},
   "outputs": [],
   "source": [
    "# Calc averages of each subdirectory of audio clips and save to a flat file\n",
    "\n",
    "results = []\n",
    "# using with statement\n",
    "with open('natural_avgs.txt', 'a') as file:\n",
    "    for i in range(156):\n",
    "        avg = process_dir(\"{}{}\".format(directory, \"{0:03}\".format(i)), get_avg_echo_vals)\n",
    "        print(\"Directory: {} | Average: {}\".format(\"{}{}\".format(directory, \"{0:03}\".format(i)), avg))\n",
    "        file.write(\"{}, \".format(avg))\n",
    "        file.flush()"
   ]
  },
  {
   "cell_type": "code",
   "execution_count": null,
   "metadata": {},
   "outputs": [],
   "source": [
    "# Read data back from flat file and process\n",
    "data = []\n",
    "with open(\"natural_avgs.txt\", \"r\") as file:\n",
    "    txt = file.read()\n",
    "    txt = txt.strip()\n",
    "    txt = txt.split(\",\")\n",
    "    txt = txt[:-1]\n",
    "\n",
    "total = 0\n",
    "ctr = 0\n",
    "\n",
    "for each in txt:\n",
    "    total += float(each)\n",
    "    ctr += 1\n",
    "\n",
    "avg = total/ctr\n",
    "print(avg)\n"
   ]
  },
  {
   "cell_type": "markdown",
   "metadata": {},
   "source": [
    "The natural average of all audio clips in the data-set combined is: 0.7374216270845926\n",
    "\n",
    "This implies that the distrobution between 0's and 1's is not 50/50 and rather 27/73."
   ]
  },
  {
   "cell_type": "code",
   "execution_count": 3,
   "metadata": {},
   "outputs": [],
   "source": [
    "from threading import Thread\n",
    "\n",
    "class ThreadWithReturnValue(Thread):\n",
    "    \n",
    "    def __init__(self, group=None, target=None, name=None,\n",
    "                 args=(), kwargs={}, Verbose=None):\n",
    "        Thread.__init__(self, group, target, name, args, kwargs)\n",
    "        self._return = None\n",
    "\n",
    "    def run(self):\n",
    "        if self._target is not None:\n",
    "            self._return = self._target(*self._args,\n",
    "                                                **self._kwargs)\n",
    "    def join(self, *args):\n",
    "        Thread.join(self, *args)\n",
    "        return self._return\n"
   ]
  },
  {
   "cell_type": "code",
   "execution_count": null,
   "metadata": {},
   "outputs": [],
   "source": [
    "# Gets average bit value in each subdirectory of the data-set and writes it to a flat file\n",
    "# Functionally same as above, this is threaded to save time\n",
    "\n",
    "threads = [None]*156\n",
    "results = [None]*156\n",
    "\n",
    "for i in range(156):\n",
    "    threads[i] = ThreadWithReturnValue(target=process_dir, args=(\"{}{}\".format(directory, \"{0:03}\".format(i)), get_avg_echo_vals), name=str(i))\n",
    "    print(\"Starting\", threads[i])\n",
    "    threads[i].start()\n",
    "\n",
    "with open('natural_avgs.txt', 'a') as file:\n",
    "    for thread in threads:\n",
    "        if thread is not None:\n",
    "            val = thread.join()\n",
    "            file.write(\"{},\".format(str(val)))\n",
    "            file.flush()"
   ]
  }
 ],
 "metadata": {
  "kernelspec": {
   "display_name": "base",
   "language": "python",
   "name": "python3"
  },
  "language_info": {
   "codemirror_mode": {
    "name": "ipython",
    "version": 3
   },
   "file_extension": ".py",
   "mimetype": "text/x-python",
   "name": "python",
   "nbconvert_exporter": "python",
   "pygments_lexer": "ipython3",
   "version": "3.11.5"
  }
 },
 "nbformat": 4,
 "nbformat_minor": 2
}
